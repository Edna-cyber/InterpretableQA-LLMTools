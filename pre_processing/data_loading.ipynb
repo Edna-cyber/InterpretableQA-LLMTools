{
 "cells": [
  {
   "cell_type": "code",
   "execution_count": 1,
   "metadata": {},
   "outputs": [
    {
     "name": "stderr",
     "output_type": "stream",
     "text": [
      "/home/users/rz95/anaconda3/envs/nlp-env/lib/python3.12/site-packages/tqdm/auto.py:21: TqdmWarning: IProgress not found. Please update jupyter and ipywidgets. See https://ipywidgets.readthedocs.io/en/stable/user_install.html\n",
      "  from .autonotebook import tqdm as notebook_tqdm\n"
     ]
    }
   ],
   "source": [
    "import numpy as np\n",
    "# Pretty print\n",
    "from pprint import pprint\n",
    "# Datasets load_dataset function\n",
    "from datasets import load_dataset\n",
    "# Transformers Autokenizer\n",
    "from transformers import AutoTokenizer\n",
    "tokenizer = AutoTokenizer.from_pretrained('distilbert-base-uncased')\n",
    "# Standard PyTorch DataLoader\n",
    "from torch.utils.data import DataLoader"
   ]
  },
  {
   "cell_type": "code",
   "execution_count": 2,
   "metadata": {},
   "outputs": [],
   "source": [
    "import os\n",
    "import pandas as pd\n",
    "import json"
   ]
  },
  {
   "cell_type": "code",
   "execution_count": 3,
   "metadata": {},
   "outputs": [],
   "source": [
    "# dataset_dict = load_dataset('HUPD/hupd',\n",
    "#     name='sample',\n",
    "#     data_files=\"https://huggingface.co/datasets/HUPD/hupd/blob/main/hupd_metadata_2022-02-22.feather\",\n",
    "#     icpr_label=None,\n",
    "#     train_filing_start_date='2016-01-01',\n",
    "#     train_filing_end_date='2016-01-21',\n",
    "#     val_filing_start_date='2016-01-22',\n",
    "#     val_filing_end_date='2016-01-31',\n",
    "# )\n",
    "\n",
    "# print('Loading is done!')"
   ]
  },
  {
   "cell_type": "code",
   "execution_count": 4,
   "metadata": {},
   "outputs": [],
   "source": [
    "# !tar -xzvf 2015.tar.gz"
   ]
  },
  {
   "cell_type": "code",
   "execution_count": 5,
   "metadata": {},
   "outputs": [],
   "source": [
    "# !tar -xzvf 2016.tar.gz"
   ]
  },
  {
   "cell_type": "code",
   "execution_count": 6,
   "metadata": {},
   "outputs": [],
   "source": [
    "# !tar -xzvf 2017.tar.gz"
   ]
  },
  {
   "cell_type": "code",
   "execution_count": 7,
   "metadata": {},
   "outputs": [],
   "source": [
    "lst_of_columns = ['patent_number',\n",
    "        'decision',\n",
    "        'title',\n",
    "        'abstract',\n",
    "        'claims',\n",
    "        'background',\n",
    "        'summary',\n",
    "        'full_description',\n",
    "        'main_cpc_label',\n",
    "        'main_ipcr_label',\n",
    "        'filing_date',\n",
    "        'patent_issue_date',\n",
    "        'date_published',\n",
    "        'examiner_id']"
   ]
  },
  {
   "cell_type": "code",
   "execution_count": 8,
   "metadata": {},
   "outputs": [],
   "source": [
    "def to_dataframe(directory):\n",
    "    df_year = []\n",
    "    for filename in os.listdir(directory):\n",
    "        if filename.endswith('.json'):\n",
    "            file = os.path.join(directory, filename)\n",
    "            with open(file, 'r') as f:\n",
    "                data = json.load(f)\n",
    "            df = pd.json_normalize(data,meta=lst_of_columns,errors='ignore')\n",
    "            df = df[lst_of_columns]\n",
    "            df_year.append(df)\n",
    "    df_year = pd.concat(df_year, ignore_index=True)\n",
    "    return df_year"
   ]
  },
  {
   "cell_type": "code",
   "execution_count": 9,
   "metadata": {},
   "outputs": [],
   "source": [
    "dataset_name = \"hupd\" # change this\n",
    "data_dir = \"/home/users/rz95/\"\n",
    "# df_2015 = to_dataframe(os.path.join(data_dir, \"2015\"))"
   ]
  },
  {
   "cell_type": "code",
   "execution_count": 10,
   "metadata": {},
   "outputs": [],
   "source": [
    "# df_2016 = to_dataframe(os.path.join(data_dir, \"2016\"))"
   ]
  },
  {
   "cell_type": "code",
   "execution_count": 11,
   "metadata": {},
   "outputs": [],
   "source": [
    "df_2017 = to_dataframe(os.path.join(data_dir, \"2017\"))"
   ]
  },
  {
   "cell_type": "code",
   "execution_count": 12,
   "metadata": {},
   "outputs": [],
   "source": [
    "# df_2015.head()"
   ]
  },
  {
   "cell_type": "code",
   "execution_count": 13,
   "metadata": {},
   "outputs": [],
   "source": [
    "# df_2015.columns"
   ]
  },
  {
   "cell_type": "code",
   "execution_count": 14,
   "metadata": {},
   "outputs": [],
   "source": [
    "# yet to be processed: main_cpc_label, main_ipcr_label\n",
    "def preprocess(df):\n",
    "    def decision_map(dec):\n",
    "        dic = {\n",
    "            'REJECTED': 0, \n",
    "            'ACCEPTED': 1, \n",
    "            'PENDING': 2, \n",
    "            'CONT-REJECTED': 3, \n",
    "            'CONT-ACCEPTED': 4, \n",
    "            'CONT-PENDING': 5\n",
    "        }\n",
    "        return dic[dec]\n",
    "    df[\"decision\"] = df[\"decision\"].apply(decision_map)\n",
    "        \n",
    "    def date_process(column):\n",
    "        df[column] = pd.to_datetime(df[column])\n",
    "        df[column.replace(\"date\", \"time\")] = df[column].apply(lambda x:(x.year, x.month))\n",
    "    date_process(\"filing_date\")\n",
    "    date_process(\"patent_issue_date\")\n",
    "    date_process(\"date_published\")\n",
    "    return df\n"
   ]
  },
  {
   "cell_type": "code",
   "execution_count": 15,
   "metadata": {},
   "outputs": [],
   "source": [
    "# preprocess(df_2015)\n",
    "# df_2015.head()"
   ]
  },
  {
   "cell_type": "code",
   "execution_count": 16,
   "metadata": {},
   "outputs": [
    {
     "data": {
      "text/html": [
       "<div>\n",
       "<style scoped>\n",
       "    .dataframe tbody tr th:only-of-type {\n",
       "        vertical-align: middle;\n",
       "    }\n",
       "\n",
       "    .dataframe tbody tr th {\n",
       "        vertical-align: top;\n",
       "    }\n",
       "\n",
       "    .dataframe thead th {\n",
       "        text-align: right;\n",
       "    }\n",
       "</style>\n",
       "<table border=\"1\" class=\"dataframe\">\n",
       "  <thead>\n",
       "    <tr style=\"text-align: right;\">\n",
       "      <th></th>\n",
       "      <th>patent_number</th>\n",
       "      <th>decision</th>\n",
       "      <th>title</th>\n",
       "      <th>abstract</th>\n",
       "      <th>claims</th>\n",
       "      <th>background</th>\n",
       "      <th>summary</th>\n",
       "      <th>full_description</th>\n",
       "      <th>main_cpc_label</th>\n",
       "      <th>main_ipcr_label</th>\n",
       "      <th>filing_date</th>\n",
       "      <th>patent_issue_date</th>\n",
       "      <th>date_published</th>\n",
       "      <th>examiner_id</th>\n",
       "      <th>filing_time</th>\n",
       "      <th>patent_issue_time</th>\n",
       "      <th>time_published</th>\n",
       "    </tr>\n",
       "  </thead>\n",
       "  <tbody>\n",
       "    <tr>\n",
       "      <th>0</th>\n",
       "      <td>None</td>\n",
       "      <td>2</td>\n",
       "      <td>SYSTEMS AND METHODS PROVIDING CENTRALIZED MEDI...</td>\n",
       "      <td>Systems and methods provide credentialing and ...</td>\n",
       "      <td>1. A system for providing credentialing and pr...</td>\n",
       "      <td>&lt;SOH&gt; BACKGROUND &lt;EOH&gt;The U.S. Department of H...</td>\n",
       "      <td>&lt;SOH&gt; SUMMARY OF THE EMBODIMENTS &lt;EOH&gt;The foll...</td>\n",
       "      <td>CROSS REFERENCE TO RELATED APPLICATIONS This p...</td>\n",
       "      <td>G16H1060</td>\n",
       "      <td>G16H1060</td>\n",
       "      <td>2017-10-05</td>\n",
       "      <td>NaT</td>\n",
       "      <td>2018-05-03</td>\n",
       "      <td>71267.0</td>\n",
       "      <td>(2017, 10)</td>\n",
       "      <td>(nan, nan)</td>\n",
       "      <td>(2018, 5)</td>\n",
       "    </tr>\n",
       "    <tr>\n",
       "      <th>1</th>\n",
       "      <td>10009147</td>\n",
       "      <td>1</td>\n",
       "      <td>APPARATUS AND METHOD FOR SENDING AND RECEIVING...</td>\n",
       "      <td>A broadcast signal receiver is provided. The b...</td>\n",
       "      <td>1. A broadcast signal receiver, comprising: a ...</td>\n",
       "      <td>&lt;SOH&gt; BACKGROUND OF THE INVENTION &lt;EOH&gt;The pre...</td>\n",
       "      <td>&lt;SOH&gt; SUMMARY OF THE INVENTION &lt;EOH&gt;A broadcas...</td>\n",
       "      <td>CROSS-REFERENCE TO RELATED APPLICATIONS This a...</td>\n",
       "      <td>H04L10071</td>\n",
       "      <td>H04L100</td>\n",
       "      <td>2017-03-03</td>\n",
       "      <td>2018-06-26</td>\n",
       "      <td>2017-06-22</td>\n",
       "      <td>67619.0</td>\n",
       "      <td>(2017, 3)</td>\n",
       "      <td>(2018, 6)</td>\n",
       "      <td>(2017, 6)</td>\n",
       "    </tr>\n",
       "    <tr>\n",
       "      <th>2</th>\n",
       "      <td>None</td>\n",
       "      <td>2</td>\n",
       "      <td>Method of processing and fractionating biomass...</td>\n",
       "      <td>The present invention relates to a method of t...</td>\n",
       "      <td>1. A method of fractionation of biomass, in pa...</td>\n",
       "      <td>&lt;SOH&gt; BACKGROUND ART &lt;EOH&gt;Conversion of biomas...</td>\n",
       "      <td>&lt;SOH&gt; SUMMARY OF INVENTION &lt;EOH&gt;</td>\n",
       "      <td>TECHNICAL FIELD The present invention relates ...</td>\n",
       "      <td>C08B370057</td>\n",
       "      <td>C08B3700</td>\n",
       "      <td>2017-04-24</td>\n",
       "      <td>NaT</td>\n",
       "      <td>2017-10-19</td>\n",
       "      <td>66532.0</td>\n",
       "      <td>(2017, 4)</td>\n",
       "      <td>(nan, nan)</td>\n",
       "      <td>(2017, 10)</td>\n",
       "    </tr>\n",
       "    <tr>\n",
       "      <th>3</th>\n",
       "      <td>None</td>\n",
       "      <td>2</td>\n",
       "      <td>PHASE MEASURING DEVICE AND APPARATUSES USING T...</td>\n",
       "      <td>The inventive phase measuring device includes ...</td>\n",
       "      <td>1. A phase measuring device for measuring a ph...</td>\n",
       "      <td>&lt;SOH&gt; BACKGROUND ART &lt;EOH&gt;A device that measur...</td>\n",
       "      <td>&lt;SOH&gt; SUMMARY &lt;EOH&gt;</td>\n",
       "      <td>TECHNICAL FIELD The present invention relates ...</td>\n",
       "      <td>H04L272331</td>\n",
       "      <td>H04L27233</td>\n",
       "      <td>2017-05-12</td>\n",
       "      <td>NaT</td>\n",
       "      <td>2017-11-09</td>\n",
       "      <td>58719.0</td>\n",
       "      <td>(2017, 5)</td>\n",
       "      <td>(nan, nan)</td>\n",
       "      <td>(2017, 11)</td>\n",
       "    </tr>\n",
       "    <tr>\n",
       "      <th>4</th>\n",
       "      <td>nan</td>\n",
       "      <td>2</td>\n",
       "      <td>TIMEPIECE, METHOD OF DISPLAY CONTROL, AND STOR...</td>\n",
       "      <td>A timepiece includes one or more processors; a...</td>\n",
       "      <td>1. An electronic device, comprising: one or mo...</td>\n",
       "      <td>&lt;SOH&gt; BACKGROUND OF THE INVENTION &lt;EOH&gt;</td>\n",
       "      <td>&lt;SOH&gt; SUMMARY OF THE INVENTION &lt;EOH&gt;The presen...</td>\n",
       "      <td>BACKGROUND OF THE INVENTION Technical Field Th...</td>\n",
       "      <td>G04G99006</td>\n",
       "      <td>G04G9900</td>\n",
       "      <td>2017-12-28</td>\n",
       "      <td>NaT</td>\n",
       "      <td>2018-06-28</td>\n",
       "      <td>70323.0</td>\n",
       "      <td>(2017, 12)</td>\n",
       "      <td>(nan, nan)</td>\n",
       "      <td>(2018, 6)</td>\n",
       "    </tr>\n",
       "  </tbody>\n",
       "</table>\n",
       "</div>"
      ],
      "text/plain": [
       "  patent_number  decision                                              title  \\\n",
       "0          None         2  SYSTEMS AND METHODS PROVIDING CENTRALIZED MEDI...   \n",
       "1      10009147         1  APPARATUS AND METHOD FOR SENDING AND RECEIVING...   \n",
       "2          None         2  Method of processing and fractionating biomass...   \n",
       "3          None         2  PHASE MEASURING DEVICE AND APPARATUSES USING T...   \n",
       "4           nan         2  TIMEPIECE, METHOD OF DISPLAY CONTROL, AND STOR...   \n",
       "\n",
       "                                            abstract  \\\n",
       "0  Systems and methods provide credentialing and ...   \n",
       "1  A broadcast signal receiver is provided. The b...   \n",
       "2  The present invention relates to a method of t...   \n",
       "3  The inventive phase measuring device includes ...   \n",
       "4  A timepiece includes one or more processors; a...   \n",
       "\n",
       "                                              claims  \\\n",
       "0  1. A system for providing credentialing and pr...   \n",
       "1  1. A broadcast signal receiver, comprising: a ...   \n",
       "2  1. A method of fractionation of biomass, in pa...   \n",
       "3  1. A phase measuring device for measuring a ph...   \n",
       "4  1. An electronic device, comprising: one or mo...   \n",
       "\n",
       "                                          background  \\\n",
       "0  <SOH> BACKGROUND <EOH>The U.S. Department of H...   \n",
       "1  <SOH> BACKGROUND OF THE INVENTION <EOH>The pre...   \n",
       "2  <SOH> BACKGROUND ART <EOH>Conversion of biomas...   \n",
       "3  <SOH> BACKGROUND ART <EOH>A device that measur...   \n",
       "4            <SOH> BACKGROUND OF THE INVENTION <EOH>   \n",
       "\n",
       "                                             summary  \\\n",
       "0  <SOH> SUMMARY OF THE EMBODIMENTS <EOH>The foll...   \n",
       "1  <SOH> SUMMARY OF THE INVENTION <EOH>A broadcas...   \n",
       "2                   <SOH> SUMMARY OF INVENTION <EOH>   \n",
       "3                                <SOH> SUMMARY <EOH>   \n",
       "4  <SOH> SUMMARY OF THE INVENTION <EOH>The presen...   \n",
       "\n",
       "                                    full_description main_cpc_label  \\\n",
       "0  CROSS REFERENCE TO RELATED APPLICATIONS This p...       G16H1060   \n",
       "1  CROSS-REFERENCE TO RELATED APPLICATIONS This a...      H04L10071   \n",
       "2  TECHNICAL FIELD The present invention relates ...     C08B370057   \n",
       "3  TECHNICAL FIELD The present invention relates ...     H04L272331   \n",
       "4  BACKGROUND OF THE INVENTION Technical Field Th...      G04G99006   \n",
       "\n",
       "  main_ipcr_label filing_date patent_issue_date date_published examiner_id  \\\n",
       "0        G16H1060  2017-10-05               NaT     2018-05-03     71267.0   \n",
       "1         H04L100  2017-03-03        2018-06-26     2017-06-22     67619.0   \n",
       "2        C08B3700  2017-04-24               NaT     2017-10-19     66532.0   \n",
       "3       H04L27233  2017-05-12               NaT     2017-11-09     58719.0   \n",
       "4        G04G9900  2017-12-28               NaT     2018-06-28     70323.0   \n",
       "\n",
       "  filing_time patent_issue_time time_published  \n",
       "0  (2017, 10)        (nan, nan)      (2018, 5)  \n",
       "1   (2017, 3)         (2018, 6)      (2017, 6)  \n",
       "2   (2017, 4)        (nan, nan)     (2017, 10)  \n",
       "3   (2017, 5)        (nan, nan)     (2017, 11)  \n",
       "4  (2017, 12)        (nan, nan)      (2018, 6)  "
      ]
     },
     "execution_count": 16,
     "metadata": {},
     "output_type": "execute_result"
    }
   ],
   "source": [
    "# preprocess(df_2016)\n",
    "preprocess(df_2017)\n",
    "df_2017.head()"
   ]
  },
  {
   "cell_type": "code",
   "execution_count": 17,
   "metadata": {},
   "outputs": [],
   "source": [
    "corpus_dir = \"/usr/project/xtmp/rz95/InterpretableQA-LLMTools/data/external_corpus\"\n",
    "# df_2015.to_csv(os.path.join(corpus_dir, dataset_name, \"hupd_2015.csv\"), index=False) "
   ]
  },
  {
   "cell_type": "code",
   "execution_count": 18,
   "metadata": {},
   "outputs": [],
   "source": [
    "# df_2016.to_csv(os.path.join(corpus_dir, dataset_name, \"hupd_2016.csv\"), index=False) "
   ]
  },
  {
   "cell_type": "code",
   "execution_count": 19,
   "metadata": {},
   "outputs": [],
   "source": [
    "df_2017.to_csv(os.path.join(corpus_dir, dataset_name, \"hupd_2017.csv\"), index=False)"
   ]
  }
 ],
 "metadata": {
  "kernelspec": {
   "display_name": "nlp-env",
   "language": "python",
   "name": "python3"
  },
  "language_info": {
   "codemirror_mode": {
    "name": "ipython",
    "version": 3
   },
   "file_extension": ".py",
   "mimetype": "text/x-python",
   "name": "python",
   "nbconvert_exporter": "python",
   "pygments_lexer": "ipython3",
   "version": "3.12.2"
  },
  "orig_nbformat": 4
 },
 "nbformat": 4,
 "nbformat_minor": 2
}
