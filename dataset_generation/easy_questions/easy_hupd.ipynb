{
 "cells": [
  {
   "cell_type": "code",
   "execution_count": 3,
   "metadata": {},
   "outputs": [],
   "source": [
    "import os\n",
    "import pandas as pd\n",
    "import json\n",
    "import random\n",
    "import tqdm\n",
    "import jsonlines"
   ]
  },
  {
   "cell_type": "code",
   "execution_count": 4,
   "metadata": {},
   "outputs": [],
   "source": [
    "corpus_dir = \"/usr/project/xtmp/rz95/InterpretableQA-LLMTools/data/external_corpus/hupd/\""
   ]
  },
  {
   "cell_type": "code",
   "execution_count": 1,
   "metadata": {},
   "outputs": [],
   "source": [
    "# What was the average time between the filing and issuance of patents from {start_year} to {end_year}?\n",
    "def average_pendency(start_year, end_year):\n",
    "    df = []\n",
    "    for year in range(start_year, end_year+1):\n",
    "        df.append(pd.read_csv(os.path.join(corpus_dir, \"hupd_{}.csv\".format(str(year)))))\n",
    "    df = pd.concat(df, ignore_index=True) \n",
    "    \n",
    "    # Filter and convert dates in one step\n",
    "    df = df[df[\"decision\"] == 1].copy()\n",
    "    df[\"filing_date\"] = pd.to_datetime(df['filing_date'])\n",
    "    df[\"patent_issue_date\"] = pd.to_datetime(df['patent_issue_date'])\n",
    "\n",
    "    # Calculate pendencies directly as days\n",
    "    pendencies = (df[\"patent_issue_date\"] - df[\"filing_date\"]).dt.days\n",
    "\n",
    "    # Compute the mean pendency\n",
    "    mean_pendency = pendencies.mean()\n",
    "    return mean_pendency\n"
   ]
  },
  {
   "cell_type": "code",
   "execution_count": 5,
   "metadata": {},
   "outputs": [
    {
     "ename": "",
     "evalue": "",
     "output_type": "error",
     "traceback": [
      "\u001b[1;31mCannot execute code, session has been disposed. Please try restarting the Kernel."
     ]
    },
    {
     "ename": "",
     "evalue": "",
     "output_type": "error",
     "traceback": [
      "\u001b[1;31mThe Kernel crashed while executing code in the the current cell or a previous cell. Please review the code in the cell(s) to identify a possible cause of the failure. Click <a href='https://aka.ms/vscodeJupyterKernelCrash'>here</a> for more info. View Jupyter <a href='command:jupyter.viewOutput'>log</a> for further details."
     ]
    }
   ],
   "source": [
    "questions = []\n",
    "question_id = 0\n",
    "while question_id<=2: #100\n",
    "    question_type = random.randint(0, 0) # (0, 4)\n",
    "    if question_type == 0:\n",
    "        # What was the average time between the filing and issuance of patents from {start_year} to {end_year}?\n",
    "        start_year = random.randint(2015,2017)\n",
    "        end_year = random.randint(start_year,2017)\n",
    "        question = \"What was the average time between the filing and issuance of patents from {} to {}?\".format(start_year, end_year)\n",
    "        answer = average_pendency(start_year, end_year)\n",
    "    # use None to signify not adding to the questions / answers\n",
    "    if answer:\n",
    "        questions.append({\"qid\": \"easy-hupd-{:0>4d}\".format(question_id), \"question\":question, \"answer\":answer})\n",
    "        question_id += 1"
   ]
  },
  {
   "cell_type": "code",
   "execution_count": null,
   "metadata": {},
   "outputs": [],
   "source": [
    "with jsonlines.open('/usr/project/xtmp/rz95/InterpretableQA-LLMTools/data/questions/easy/hupd-easy.jsonl', mode='w') as writer:\n",
    "    for row in questions:\n",
    "        writer.write(row)"
   ]
  }
 ],
 "metadata": {
  "kernelspec": {
   "display_name": "llm",
   "language": "python",
   "name": "python3"
  },
  "language_info": {
   "codemirror_mode": {
    "name": "ipython",
    "version": 3
   },
   "file_extension": ".py",
   "mimetype": "text/x-python",
   "name": "python",
   "nbconvert_exporter": "python",
   "pygments_lexer": "ipython3",
   "version": "3.12.2"
  },
  "orig_nbformat": 4
 },
 "nbformat": 4,
 "nbformat_minor": 2
}
