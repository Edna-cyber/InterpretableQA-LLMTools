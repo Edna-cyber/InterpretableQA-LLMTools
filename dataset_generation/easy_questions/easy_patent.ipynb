{
 "cells": [
  {
   "cell_type": "code",
   "execution_count": 1,
   "metadata": {},
   "outputs": [],
   "source": [
    "import os\n",
    "import pandas as pd\n",
    "import json\n",
    "import random\n",
    "import tqdm\n",
    "import jsonlines"
   ]
  },
  {
   "cell_type": "code",
   "execution_count": null,
   "metadata": {},
   "outputs": [],
   "source": [
    "corpus_dir = \"/usr/project/xtmp/rz95/InterpretableQA-LLMTools/data/external_corpus/hupd/\""
   ]
  },
  {
   "cell_type": "code",
   "execution_count": null,
   "metadata": {},
   "outputs": [],
   "source": [
    "# What was the average time between the filing and issuance of patents from {start_year} to {end_year}?\n",
    "def average_pendency(start_year, end_year):\n",
    "    df = []\n",
    "    for year in range(start_year, end_year+1):\n",
    "        df.append(pd.read_csv(os.path.join(corpus_dir, \"hupd_\", year, \".csv\")))\n",
    "    df."
   ]
  },
  {
   "cell_type": "code",
   "execution_count": 6,
   "metadata": {},
   "outputs": [],
   "source": [
    "questions = []\n",
    "question_id = 0\n",
    "while question_id<=2: #100\n",
    "    question_indices = random.randint(0, 0) # 4\n",
    "    if question_indices == 0:\n",
    "        # What was the average time between the filing and issuance of patents from {start_year} to {end_year}?\n",
    "        \n",
    "    questions.append({\"qid\": \"easy-agenda-{:0>4d}\".format(question_id), \"question\":question, \"answer\":answer})\n",
    "    question_id += 1"
   ]
  },
  {
   "cell_type": "code",
   "execution_count": 7,
   "metadata": {},
   "outputs": [],
   "source": [
    "with jsonlines.open('/usr/project/xtmp/rz95/InterpretableQA-LLMTools/data/questions/easy/patent-easy.jsonl', mode='w') as writer:\n",
    "    for row in questions:\n",
    "        writer.write(row)"
   ]
  }
 ],
 "metadata": {
  "kernelspec": {
   "display_name": "llm",
   "language": "python",
   "name": "python3"
  },
  "language_info": {
   "codemirror_mode": {
    "name": "ipython",
    "version": 3
   },
   "file_extension": ".py",
   "mimetype": "text/x-python",
   "name": "python",
   "nbconvert_exporter": "python",
   "pygments_lexer": "ipython3",
   "version": "3.9.16"
  },
  "orig_nbformat": 4
 },
 "nbformat": 4,
 "nbformat_minor": 2
}
